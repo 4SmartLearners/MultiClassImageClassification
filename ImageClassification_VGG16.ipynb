{
 "cells": [
  {
   "cell_type": "code",
   "execution_count": 23,
   "id": "7bc944f4-3184-420d-81bf-4e5b5246a1ee",
   "metadata": {},
   "outputs": [],
   "source": [
    "# Using VGG16 pre-trained network for transfer learning\n",
    "# Training using 5 classes of cookie dataset and saving the model\n",
    "# to Test a single image use \"ImageClassification_VGG16_test\" code"
   ]
  },
  {
   "cell_type": "code",
   "execution_count": null,
   "id": "65544111-c44d-45cb-8237-3554843b10f1",
   "metadata": {},
   "outputs": [],
   "source": [
    "# from tensorflow.keras.applications from EfficientNetB7 # work in progress"
   ]
  },
  {
   "cell_type": "code",
   "execution_count": 4,
   "id": "3d285d0f-f02d-4dfa-9541-dd5e2b98cb6a",
   "metadata": {},
   "outputs": [],
   "source": [
    "from keras.applications.vgg16 import VGG16\n",
    "from keras.models import Model\n",
    "from keras.layers import Dense, GlobalAveragePooling2D\n",
    "from tensorflow.keras.preprocessing.image import ImageDataGenerator\n",
    "from keras.optimizers import Adam"
   ]
  },
  {
   "cell_type": "code",
   "execution_count": 5,
   "id": "c7712990-e3e5-4f3a-b1de-3f7ff7e60039",
   "metadata": {},
   "outputs": [],
   "source": [
    "# Specify the number of classes in your classification problem\n",
    "num_classes = 5"
   ]
  },
  {
   "cell_type": "code",
   "execution_count": 8,
   "id": "2c292e13-0448-4049-9da8-4e968cd8828e",
   "metadata": {},
   "outputs": [],
   "source": [
    "# Load the pre-trained VGG16 model without the top classification layer\n",
    "base_model = VGG16(weights='imagenet', include_top=False, input_shape=(224, 224, 3))\n",
    "\n",
    "# Add a new top classification layer\n",
    "x = base_model.output\n",
    "x = GlobalAveragePooling2D()(x)\n",
    "x = Dense(1024, activation='relu')(x)\n",
    "predictions = Dense(num_classes, activation='softmax')(x)\n",
    "\n",
    "# Create the final model\n",
    "model = Model(inputs=base_model.input, outputs=predictions)\n",
    "\n",
    "# Freeze the weights of the pre-trained layers\n",
    "for layer in base_model.layers:\n",
    "    layer.trainable = False\n",
    "\n",
    "# Compile the model\n",
    "model.compile(optimizer=Adam(learning_rate=0.001), loss='categorical_crossentropy', metrics=['accuracy'])\n"
   ]
  },
  {
   "cell_type": "code",
   "execution_count": 14,
   "id": "f15b8cee-151e-48dd-8eef-a6ecdb24123a",
   "metadata": {},
   "outputs": [],
   "source": [
    "# Specify the data directories\n",
    "train_data_dir = 'F:/WNELocalFiles/Databases/D1_500/train'\n",
    "validation_data_dir = 'F:/WNELocalFiles/Databases/D1_500/test'"
   ]
  },
  {
   "cell_type": "code",
   "execution_count": 15,
   "id": "e3a09fae-2823-4c1c-bb9f-b701cbff119e",
   "metadata": {},
   "outputs": [
    {
     "name": "stdout",
     "output_type": "stream",
     "text": [
      "F:/WNELocalFiles/Databases/D1_500/train\n",
      "F:/WNELocalFiles/Databases/D1_500/test\n"
     ]
    }
   ],
   "source": [
    "print(train_data_dir)\n",
    "print(validation_data_dir)"
   ]
  },
  {
   "cell_type": "code",
   "execution_count": 19,
   "id": "7748930f-4b30-40dd-bb34-c4770273d17a",
   "metadata": {},
   "outputs": [
    {
     "name": "stdout",
     "output_type": "stream",
     "text": [
      "Found 2000 images belonging to 5 classes.\n",
      "Found 500 images belonging to 5 classes.\n",
      "Epoch 1/10\n",
      "\u001b[1m20/20\u001b[0m \u001b[32m━━━━━━━━━━━━━━━━━━━━\u001b[0m\u001b[37m\u001b[0m \u001b[1m340s\u001b[0m 17s/step - accuracy: 0.9880 - loss: 0.0493 - val_accuracy: 0.9960 - val_loss: 0.0451\n",
      "Epoch 2/10\n",
      "\u001b[1m20/20\u001b[0m \u001b[32m━━━━━━━━━━━━━━━━━━━━\u001b[0m\u001b[37m\u001b[0m \u001b[1m337s\u001b[0m 17s/step - accuracy: 0.9965 - loss: 0.0474 - val_accuracy: 1.0000 - val_loss: 0.0391\n",
      "Epoch 3/10\n",
      "\u001b[1m20/20\u001b[0m \u001b[32m━━━━━━━━━━━━━━━━━━━━\u001b[0m\u001b[37m\u001b[0m \u001b[1m325s\u001b[0m 17s/step - accuracy: 0.9893 - loss: 0.0525 - val_accuracy: 0.9460 - val_loss: 0.1129\n",
      "Epoch 4/10\n",
      "\u001b[1m20/20\u001b[0m \u001b[32m━━━━━━━━━━━━━━━━━━━━\u001b[0m\u001b[37m\u001b[0m \u001b[1m159s\u001b[0m 8s/step - accuracy: 0.9672 - loss: 0.0386 - val_accuracy: 0.9660 - val_loss: 0.0647\n",
      "Epoch 5/10\n",
      "\u001b[1m20/20\u001b[0m \u001b[32m━━━━━━━━━━━━━━━━━━━━\u001b[0m\u001b[37m\u001b[0m \u001b[1m289s\u001b[0m 14s/step - accuracy: 0.9820 - loss: 0.0500 - val_accuracy: 1.0000 - val_loss: 0.0315\n",
      "Epoch 6/10\n",
      "\u001b[1m20/20\u001b[0m \u001b[32m━━━━━━━━━━━━━━━━━━━━\u001b[0m\u001b[37m\u001b[0m \u001b[1m285s\u001b[0m 15s/step - accuracy: 0.9930 - loss: 0.0372 - val_accuracy: 0.9820 - val_loss: 0.0478\n",
      "Epoch 7/10\n",
      "\u001b[1m20/20\u001b[0m \u001b[32m━━━━━━━━━━━━━━━━━━━━\u001b[0m\u001b[37m\u001b[0m \u001b[1m327s\u001b[0m 17s/step - accuracy: 0.9987 - loss: 0.0301 - val_accuracy: 1.0000 - val_loss: 0.0293\n",
      "Epoch 8/10\n",
      "\u001b[1m20/20\u001b[0m \u001b[32m━━━━━━━━━━━━━━━━━━━━\u001b[0m\u001b[37m\u001b[0m \u001b[1m133s\u001b[0m 7s/step - accuracy: 1.0000 - loss: 0.0434 - val_accuracy: 1.0000 - val_loss: 0.0263\n",
      "Epoch 9/10\n",
      "\u001b[1m20/20\u001b[0m \u001b[32m━━━━━━━━━━━━━━━━━━━━\u001b[0m\u001b[37m\u001b[0m \u001b[1m278s\u001b[0m 14s/step - accuracy: 0.9982 - loss: 0.0218 - val_accuracy: 0.9980 - val_loss: 0.0276\n",
      "Epoch 10/10\n",
      "\u001b[1m20/20\u001b[0m \u001b[32m━━━━━━━━━━━━━━━━━━━━\u001b[0m\u001b[37m\u001b[0m \u001b[1m259s\u001b[0m 13s/step - accuracy: 0.9893 - loss: 0.0291 - val_accuracy: 0.9800 - val_loss: 0.0427\n"
     ]
    },
    {
     "name": "stderr",
     "output_type": "stream",
     "text": [
      "WARNING:absl:You are saving your model as an HDF5 file via `model.save()` or `keras.saving.save_model(model)`. This file format is considered legacy. We recommend using instead the native Keras format, e.g. `model.save('my_model.keras')` or `keras.saving.save_model(model, 'my_model.keras')`. \n"
     ]
    }
   ],
   "source": [
    "# Specify the batch size and number of training steps per epoch\n",
    "batch_size = 32\n",
    "train_steps_per_epoch = 20\n",
    "\n",
    "# Data augmentation for training data\n",
    "train_datagen = ImageDataGenerator(rescale=1. / 255,\n",
    "                                   shear_range=0.2,\n",
    "                                   zoom_range=0.2,\n",
    "                                   horizontal_flip=True)\n",
    "\n",
    "# Data augmentation for validation data (only rescaling)\n",
    "validation_datagen = ImageDataGenerator(rescale=1. / 255)\n",
    "\n",
    "# Generate the training data from the directories\n",
    "train_generator = train_datagen.flow_from_directory(train_data_dir,\n",
    "                                                    target_size=(224, 224),\n",
    "                                                    batch_size=batch_size,\n",
    "                                                    class_mode='categorical')\n",
    "\n",
    "# Generate the validation data from the directories\n",
    "validation_generator = validation_datagen.flow_from_directory(validation_data_dir,\n",
    "                                                              target_size=(224, 224),\n",
    "                                                              batch_size=batch_size,\n",
    "                                                              class_mode='categorical')\n",
    "\n",
    "# Train the model\n",
    "model.fit(train_generator,\n",
    "                    steps_per_epoch=train_steps_per_epoch,\n",
    "                    epochs=10,\n",
    "                    validation_data=validation_generator)\n",
    "\n",
    "# Save the trained model\n",
    "model.save('5_class_vgg16_model.h5')"
   ]
  },
  {
   "cell_type": "code",
   "execution_count": 21,
   "id": "7ebd3081-37b5-40c6-a634-d9e5febb92e2",
   "metadata": {},
   "outputs": [],
   "source": [
    "model.save('5_class_vgg15_model.keras')"
   ]
  },
  {
   "cell_type": "code",
   "execution_count": null,
   "id": "15dade60-babd-4255-9157-48fb729d0760",
   "metadata": {},
   "outputs": [],
   "source": []
  }
 ],
 "metadata": {
  "kernelspec": {
   "display_name": "Python 3 (ipykernel)",
   "language": "python",
   "name": "python3"
  },
  "language_info": {
   "codemirror_mode": {
    "name": "ipython",
    "version": 3
   },
   "file_extension": ".py",
   "mimetype": "text/x-python",
   "name": "python",
   "nbconvert_exporter": "python",
   "pygments_lexer": "ipython3",
   "version": "3.11.5"
  }
 },
 "nbformat": 4,
 "nbformat_minor": 5
}
